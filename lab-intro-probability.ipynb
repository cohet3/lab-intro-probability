{
 "cells": [
  {
   "cell_type": "markdown",
   "metadata": {},
   "source": [
    "# Lab | Intro to Probability"
   ]
  },
  {
   "cell_type": "markdown",
   "metadata": {},
   "source": [
    "**Objective**\n",
    "\n",
    "Welcome to this Intro to Probability lab, where we explore decision-making scenarios through the lens of probability and strategic analysis. In the business world, making informed decisions is crucial, especially when faced with uncertainties. This lab focuses on scenarios where probabilistic outcomes play a significant role in shaping strategies and outcomes. Students will engage in exercises that require assessing and choosing optimal paths based on data-driven insights. The goal is to enhance your skills by applying probability concepts to solve real-world problems."
   ]
  },
  {
   "cell_type": "markdown",
   "metadata": {},
   "source": [
    "**Challenge 1**"
   ]
  },
  {
   "cell_type": "markdown",
   "metadata": {},
   "source": [
    "#### Ironhack Airlines \n",
    "\n",
    "Often Airlines sell more tickets than they have seats available, this is called overbooking. Consider the following:\n",
    "- A plane has 450 seats. \n",
    "- Based on historical data we conclude that each individual passenger has a 3% chance of missing it's flight. \n",
    "\n",
    "If the Ironhack Airlines routinely sells 460 tickets, what is the chance that they have a seats for all passenger?"
   ]
  },
  {
   "cell_type": "code",
   "execution_count": 4,
   "metadata": {},
   "outputs": [
    {
     "name": "stdout",
     "output_type": "stream",
     "text": [
      "La probabilidad de que todos los 460 pasajeros aborden el avión es: 0.00e+00\n",
      "La probabilidad de que todos los 460 pasajeros aborden el avión es: 0.0\n"
     ]
    }
   ],
   "source": [
    "#code here\n",
    "import math\n",
    "\n",
    "def probabilidad_todos_abordan(n, p):\n",
    "  \"\"\"\n",
    "  Calcula la probabilidad de que todos los pasajeros aborden un avión.\n",
    "\n",
    "  Args:\n",
    "    n: Número total de pasajeros.\n",
    "    p: Probabilidad de que un pasajero aborde el avión.\n",
    "\n",
    "  Returns:\n",
    "    La probabilidad de que todos los pasajeros aborden el avión.\n",
    "  \"\"\"\n",
    "\n",
    "  # Fórmula de la distribución binomial para k = 0 (ningún pasajero falta)\n",
    "  probabilidad = math.comb(n, 0) * p**0 * (1-p)**n\n",
    "  return probabilidad\n",
    "\n",
    "# Parámetros del problema\n",
    "num_pasajeros = 460\n",
    "prob_abordar = 0.97\n",
    "\n",
    "# Calcular la probabilidad\n",
    "resultado = probabilidad_todos_abordan(num_pasajeros, prob_abordar)\n",
    "\n",
    "print(f\"La probabilidad de que todos los 460 pasajeros aborden el avión es: {resultado:.2e}\")\n",
    "# Sobreventa de boletos: Dado que la aerolínea está vendiendo 460 boletos para un avión de 450 asientos y la probabilidad de que un pasajero no se presente es del 3%, es altamente probable que al menos un pasajero no tenga asiento.\n"
   ]
  },
  {
   "cell_type": "markdown",
   "metadata": {},
   "source": [
    "**Challenge 2**"
   ]
  },
  {
   "cell_type": "markdown",
   "metadata": {},
   "source": [
    "#### Ironhack Call Center "
   ]
  },
  {
   "cell_type": "markdown",
   "metadata": {},
   "source": [
    "Suppose a customer service representative at a call center is handling customer complaints. Consider the following:\n",
    "- The probability of successfully resolving a customer complaint on the first attempt is 0.3. \n",
    "\n",
    "\n",
    "What is the probability that the representative needs to make at least three attempts before successfully resolving a customer complaint?"
   ]
  },
  {
   "cell_type": "code",
   "execution_count": 5,
   "metadata": {},
   "outputs": [
    {
     "name": "stdout",
     "output_type": "stream",
     "text": [
      "La probabilidad de necesitar al menos tres intentos es: 0.49\n"
     ]
    }
   ],
   "source": [
    "#code here\n",
    "def probabilidad_al_menos_tres_intentos(probabilidad_exito_primer_intento):\n",
    "  \"\"\"\n",
    "  Calcula la probabilidad de que se necesiten al menos tres intentos para resolver una queja.\n",
    "\n",
    "  Args:\n",
    "    probabilidad_exito_primer_intento: Probabilidad de resolver la queja en el primer intento.\n",
    "\n",
    "  Returns:\n",
    "    La probabilidad de necesitar al menos tres intentos.\n",
    "  \"\"\"\n",
    "\n",
    "  # Probabilidad de no resolver en el primer intento\n",
    "  probabilidad_fracaso_primer_intento = 1 - probabilidad_exito_primer_intento\n",
    "\n",
    "  # Probabilidad de no resolver en los dos primeros intentos\n",
    "  probabilidad_fracaso_dos_primeros = probabilidad_fracaso_primer_intento ** 2\n",
    "\n",
    "  # Probabilidad de necesitar al menos tres intentos (complemento)\n",
    "  probabilidad_al_menos_tres = 1 - (probabilidad_exito_primer_intento + probabilidad_fracaso_primer_intento * probabilidad_exito_primer_intento)\n",
    "\n",
    "  return probabilidad_al_menos_tres\n",
    "\n",
    "# Datos del problema\n",
    "probabilidad_exito = 0.3\n",
    "\n",
    "# Calcular la probabilidad\n",
    "resultado = probabilidad_al_menos_tres_intentos(probabilidad_exito)\n",
    "\n",
    "print(f\"La probabilidad de necesitar al menos tres intentos es: {resultado}\")"
   ]
  },
  {
   "cell_type": "markdown",
   "metadata": {},
   "source": [
    "**Challenge 3**"
   ]
  },
  {
   "cell_type": "markdown",
   "metadata": {},
   "source": [
    "#### Ironhack Website"
   ]
  },
  {
   "cell_type": "markdown",
   "metadata": {},
   "source": [
    "Consider a scenario related to Ironhack website traffic. Where:\n",
    "- our website takes on average 500 visits per hour.\n",
    "- the website's server is designed to handle up to 550 vists per hour.\n",
    "\n",
    "\n",
    "What is the probability of the website server being overwhelmed?"
   ]
  },
  {
   "cell_type": "code",
   "execution_count": 6,
   "metadata": {},
   "outputs": [
    {
     "name": "stdout",
     "output_type": "stream",
     "text": [
      "Probability of server being overwhelmed: 0.01289822084039205\n"
     ]
    }
   ],
   "source": [
    "#code here\n",
    "from scipy.stats import poisson\n",
    "\n",
    "# Average rate of visits per hour\n",
    "lambda_visits = 500\n",
    "\n",
    "# Maximum visits the server can handle\n",
    "max_visits = 550\n",
    "\n",
    "# Calculate the probability of exceeding the maximum visits\n",
    "probability_overwhelm = 1 - poisson.cdf(max_visits, lambda_visits)\n",
    "\n",
    "print(\"Probability of server being overwhelmed:\", probability_overwhelm)"
   ]
  },
  {
   "cell_type": "markdown",
   "metadata": {},
   "source": [
    "What is the probability of being overwhelmed at some point during a day? (consider 24hours)"
   ]
  },
  {
   "cell_type": "code",
   "execution_count": 9,
   "metadata": {},
   "outputs": [
    {
     "name": "stdout",
     "output_type": "stream",
     "text": [
      "Probability of being overwhelmed at some point during the day: 0.2677043869515715\n"
     ]
    }
   ],
   "source": [
    "#code here\n",
    "from scipy.stats import poisson\n",
    "\n",
    "# Average rate of visits per hour\n",
    "lambda_visits = 500\n",
    "\n",
    "# Maximum visits the server can handle\n",
    "max_visits = 550\n",
    "\n",
    "# Probability of not being overwhelmed in one hour\n",
    "prob_not_overwhelmed_hour = poisson.cdf(max_visits, lambda_visits)\n",
    "# Probability of not being overwhelmed in 24 hours\n",
    "prob_not_overwhelmed_day = prob_not_overwhelmed_hour**24\n",
    "# Probability of being overwhelmed at some point during the day\n",
    "prob_overwhelmed_day = 1 - prob_not_overwhelmed_day\n",
    "print(\"Probability of being overwhelmed at some point during the day:\", prob_overwhelmed_day)"
   ]
  },
  {
   "cell_type": "markdown",
   "metadata": {},
   "source": [
    "**Challenge 4**"
   ]
  },
  {
   "cell_type": "markdown",
   "metadata": {},
   "source": [
    "#### Ironhack Helpdesk"
   ]
  },
  {
   "cell_type": "markdown",
   "metadata": {},
   "source": [
    "Consider a scenario related to the time between arrivals of customers at a service desk.\n",
    "\n",
    "On average, a customers arrives every 10minutes.\n",
    "\n",
    "What is the probability that the next customer will arrive within the next 5 minutes?"
   ]
  },
  {
   "cell_type": "code",
   "execution_count": 10,
   "metadata": {},
   "outputs": [
    {
     "name": "stdout",
     "output_type": "stream",
     "text": [
      "Probability of the next customer arriving within the next 5 minutes: 0.3934693402873666\n"
     ]
    }
   ],
   "source": [
    "# Rate of customer arrivals (customers per minute)\n",
    "lambda_customers = 0.1\n",
    "\n",
    "# Time interval to consider (minutes)\n",
    "time_interval = 5\n",
    "\n",
    "# Calculate the probability of the next customer arriving within the time interval\n",
    "probability = 1 - math.exp(-lambda_customers * time_interval)\n",
    "\n",
    "print(\"Probability of the next customer arriving within the next 5 minutes:\", probability)"
   ]
  },
  {
   "cell_type": "markdown",
   "metadata": {},
   "source": [
    "If there is no customer for 15minutes, employees can that a 5minutes break.\n",
    "\n",
    "What is the probability an employee taking a break?"
   ]
  },
  {
   "cell_type": "code",
   "execution_count": 11,
   "metadata": {},
   "outputs": [
    {
     "name": "stdout",
     "output_type": "stream",
     "text": [
      "Probability of no customers in 15 minutes: 0.22313016014842982\n"
     ]
    }
   ],
   "source": [
    "# Rate of customer arrivals (customers per minute)\n",
    "lambda_customers = 0.1\n",
    "\n",
    "# Time interval to consider (minutes)\n",
    "time_interval = 15\n",
    "\n",
    "# Calculate the probability of no customers in 15 minutes\n",
    "probability_no_customers = math.exp(-lambda_customers * time_interval)\n",
    "\n",
    "print(\"Probability of no customers in 15 minutes:\", probability_no_customers)"
   ]
  },
  {
   "cell_type": "markdown",
   "metadata": {},
   "source": [
    "**Challenge 5**"
   ]
  },
  {
   "cell_type": "markdown",
   "metadata": {},
   "source": [
    "The weights of a certain species of birds follow a normal distribution with a mean weight of 150 grams and a standard deviation of 10 grams. \n",
    "\n",
    "- If we randomly select a bird, what is the probability that its weight is between 140 and 160 grams?"
   ]
  },
  {
   "cell_type": "code",
   "execution_count": 12,
   "metadata": {},
   "outputs": [
    {
     "name": "stdout",
     "output_type": "stream",
     "text": [
      "Probability of weight between 140 and 160 grams: 0.6826894921370859\n"
     ]
    }
   ],
   "source": [
    "#code here\n",
    "from scipy.stats import norm\n",
    "# Mean weight\n",
    "mean_weight = 150\n",
    "\n",
    "# Standard deviation\n",
    "std_dev = 10\n",
    "\n",
    "# Weight range\n",
    "weight_lower = 140\n",
    "weight_upper = 160\n",
    "\n",
    "# Calculate Z-scores\n",
    "z_lower = (weight_lower - mean_weight) / std_dev\n",
    "z_upper = (weight_upper - mean_weight) / std_dev\n",
    "\n",
    "# Calculate the probability\n",
    "probability = norm.cdf(z_upper) - norm.cdf(z_lower)\n",
    "\n",
    "print(\"Probability of weight between 140 and 160 grams:\", probability)"
   ]
  },
  {
   "cell_type": "markdown",
   "metadata": {},
   "source": [
    "**Challenge 6**"
   ]
  },
  {
   "cell_type": "markdown",
   "metadata": {},
   "source": [
    "If the lifetime (in hours) of a certain electronic component follows an exponential distribution with a mean lifetime of 50 hours, what is the probability that the component fails within the first 30 hours?"
   ]
  },
  {
   "cell_type": "code",
   "execution_count": 13,
   "metadata": {},
   "outputs": [
    {
     "name": "stdout",
     "output_type": "stream",
     "text": [
      "Probability of failure within the first 30 hours: 0.4511883639059735\n"
     ]
    }
   ],
   "source": [
    "#code here\n",
    "# Mean lifetime (hours)\n",
    "mean_lifetime = 50\n",
    "\n",
    "# Rate of failures (failures per hour)\n",
    "failure_rate = 1 / mean_lifetime\n",
    "\n",
    "# Time interval to consider (hours)\n",
    "time_interval = 30\n",
    "\n",
    "# Calculate the probability of failure within the time interval\n",
    "probability = 1 - math.exp(-failure_rate * time_interval)\n",
    "\n",
    "print(\"Probability of failure within the first 30 hours:\", probability)"
   ]
  }
 ],
 "metadata": {
  "kernelspec": {
   "display_name": "Python 3",
   "language": "python",
   "name": "python3"
  },
  "language_info": {
   "codemirror_mode": {
    "name": "ipython",
    "version": 3
   },
   "file_extension": ".py",
   "mimetype": "text/x-python",
   "name": "python",
   "nbconvert_exporter": "python",
   "pygments_lexer": "ipython3",
   "version": "3.11.7"
  }
 },
 "nbformat": 4,
 "nbformat_minor": 2
}
